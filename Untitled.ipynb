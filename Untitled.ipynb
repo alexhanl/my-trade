{
 "cells": [
  {
   "cell_type": "code",
   "execution_count": 3,
   "id": "97bcaca8-3ac2-40a2-a984-57eb2e3e4135",
   "metadata": {},
   "outputs": [],
   "source": [
    "import akshare as ak\n",
    "import matplotlib.pyplot as plt\n",
    "import pandas as pd\n",
    "import datetime as dt\n",
    "from enum import Enum\n",
    "import os"
   ]
  },
  {
   "cell_type": "code",
   "execution_count": 3,
   "id": "7f092c33",
   "metadata": {},
   "outputs": [
    {
     "name": "stdout",
     "output_type": "stream",
     "text": [
      "E    5\n",
      "dtype: int64\n"
     ]
    }
   ],
   "source": [
    "import pandas as pd\n",
    "\n",
    "# 创建一个示例 Series\n",
    "s = pd.Series([1, 2, 3, 4], index=['A', 'B', 'C', 'D'])\n",
    "\n",
    "# 通过索引增加单个值\n",
    "s['E'] = 5\n",
    "print(s)"
   ]
  },
  {
   "cell_type": "code",
   "execution_count": 6,
   "metadata": {},
   "outputs": [
    {
     "name": "stdout",
     "output_type": "stream",
     "text": [
      "                          净值日期    累计净值\n",
      "净值日期                2020-01-01  2.1584\n",
      "2020-01-02 00:00:00        NaT  2.1584\n",
      "2020-01-03 00:00:00        NaT  2.1558\n",
      "2020-01-06 00:00:00        NaT  2.1433\n",
      "2020-01-07 00:00:00        NaT  2.1650\n",
      "2020-01-08 00:00:00        NaT  2.1430\n",
      "2020-01-09 00:00:00        NaT  2.1660\n",
      "2020-01-10 00:00:00        NaT  2.1640\n",
      "2020-01-13 00:00:00        NaT  2.1784\n",
      "2020-01-14 00:00:00        NaT  2.1741\n",
      "2020-01-15 00:00:00        NaT  2.1599\n",
      "2020-01-16 00:00:00        NaT  2.1488\n",
      "2020-01-17 00:00:00        NaT  2.1523\n",
      "2020-01-20 00:00:00        NaT  2.1621\n",
      "2020-01-21 00:00:00        NaT  2.1280\n",
      "2020-01-22 00:00:00        NaT  2.1314\n",
      "2020-01-23 00:00:00        NaT  2.0767\n"
     ]
    }
   ],
   "source": [
    "NET_VALUE_DATE = '净值日期'\n",
    "ACCU_NET_VALUE = '累计净值'\n",
    "TOTAL_INVESTMENT = 100.0\n",
    "\n",
    "DATA_PATH='./data'\n",
    "def load_fund_data(ticker, start_date, end_date):\n",
    "    data = pd.read_csv(os.path.join(DATA_PATH, ticker + '.csv'))\n",
    "    data[NET_VALUE_DATE] = pd.to_datetime(data[NET_VALUE_DATE])   \n",
    "    data_sliced = data[(data[NET_VALUE_DATE] >= start_date) & (data[NET_VALUE_DATE] <= end_date)]\n",
    "    data_sliced.set_index(NET_VALUE_DATE, inplace=True)\n",
    "    return data_sliced\n",
    "\n",
    "\n",
    "# 填补非交易日的数据，以及其他可能缺失的数据\n",
    "def fill_missing_data(data, start_date, end_date):\n",
    "    # 如果start_date 是非交易日\n",
    "    if data[ACCU_NET_VALUE].get(start_date) == None:\n",
    "        first_trade_day_net_value = data[ACCU_NET_VALUE].iloc[0]\n",
    "        start_date_df = pd.DataFrame({NET_VALUE_DATE: [start_date], ACCU_NET_VALUE: [first_trade_day_net_value]}, \n",
    "                          index=[NET_VALUE_DATE])\n",
    "        filled_data = pd.concat([start_date_df, data])\n",
    "    \n",
    "    # 填补其他的非交易日数据\n",
    "    return filled_data\n",
    "\n",
    "if __name__ == \"__main__\":\n",
    "    \n",
    "    start_date = pd.to_datetime('2020-01-01')\n",
    "    end_date = pd.to_datetime('2020-1-30')\n",
    "    \n",
    "    data = load_fund_data('163407', start_date, end_date)\n",
    "    print(fill_missing_data(data, start_date, end_date))"
   ]
  },
  {
   "cell_type": "code",
   "execution_count": 10,
   "id": "972b50f9",
   "metadata": {},
   "outputs": [
    {
     "name": "stdout",
     "output_type": "stream",
     "text": [
      "50\n"
     ]
    }
   ],
   "source": [
    "portfolio = [['163407', '兴全沪深300', 25],\n",
    "         ['050025', '博时标普500', 25],\n",
    "         ['000216', '华安黄金ETF', 20],\n",
    "         ['000402', '工银纯债债券A', 50]]\n",
    "portfolio_df = pd.DataFrame(portfolio, columns=['ticker','name', 'target_percentage'])\n",
    "\n",
    "percentage = portfolio_df[portfolio_df['ticker']=='000402']['target_percentage'].iloc[0]\n",
    "print(percentage)"
   ]
  },
  {
   "cell_type": "code",
   "execution_count": 50,
   "id": "f0f4819b",
   "metadata": {},
   "outputs": [
    {
     "data": {
      "text/plain": [
       "numpy.int64"
      ]
     },
     "execution_count": 50,
     "metadata": {},
     "output_type": "execute_result"
    }
   ],
   "source": [
    "type(portfolio_df['percentage'][1])\n",
    "ak.fund_money_fund_daily_em"
   ]
  },
  {
   "cell_type": "code",
   "execution_count": 70,
   "id": "00157f98",
   "metadata": {},
   "outputs": [
    {
     "name": "stdout",
     "output_type": "stream",
     "text": [
      "            净值日期   每万份收益 7日年化收益率 申购状态 赎回状态\n",
      "0     2023-11-01  0.4165  2.0440         1\n",
      "1     2023-10-31  0.6059  2.0710         1\n",
      "2     2023-10-30  0.4487  2.0520         1\n",
      "3     2023-10-29  1.2056  2.1050         0\n",
      "4     2023-10-27  0.6022  2.0330         1\n",
      "...          ...     ...     ...  ...  ...\n",
      "5150  2006-05-19  0.3010  1.6110         1\n",
      "5151  2006-05-18  0.2955  1.5890         1\n",
      "5152  2006-05-17  0.2538  1.6250         1\n",
      "5153  2006-05-16  0.2899  1.6230         1\n",
      "5154  2006-05-15  7.4263  1.5960         3\n",
      "\n",
      "[5155 rows x 5 columns]\n"
     ]
    }
   ],
   "source": [
    "money_fund = ak.fund_money_fund_info_em(fund=\"340005\")\n",
    "print(money_fund)"
   ]
  },
  {
   "cell_type": "code",
   "execution_count": 68,
   "id": "d0f2a542-cb8a-428f-86b5-f86a54e47d23",
   "metadata": {
    "scrolled": true
   },
   "outputs": [
    {
     "name": "stdout",
     "output_type": "stream",
     "text": [
      "<class 'datetime.date'>\n"
     ]
    }
   ],
   "source": [
    "fund_open_fund_info_em_df = ak.fund_open_fund_info_em(fund=\"000216\", indicator=\"累计净值走势\")\n",
    "print(type(fund_open_fund_info_em_df['净值日期'][1]))"
   ]
  },
  {
   "cell_type": "code",
   "execution_count": 67,
   "metadata": {},
   "outputs": [
    {
     "data": {
      "text/plain": [
       "<bound method DataFrame.info of             净值日期    累计净值\n",
       "0     2013-08-22  1.0000\n",
       "1     2013-08-23  1.0000\n",
       "2     2013-08-30  0.9990\n",
       "3     2013-09-06  0.9960\n",
       "4     2013-09-09  0.9980\n",
       "...          ...     ...\n",
       "2472  2023-10-26  1.6929\n",
       "2473  2023-10-27  1.6984\n",
       "2474  2023-10-30  1.7028\n",
       "2475  2023-10-31  1.7027\n",
       "2476  2023-11-01  1.6976\n",
       "\n",
       "[2477 rows x 2 columns]>"
      ]
     },
     "execution_count": 67,
     "metadata": {},
     "output_type": "execute_result"
    }
   ],
   "source": [
    "fund_open_fund_info_em_df.info\n",
    "\n"
   ]
  },
  {
   "cell_type": "code",
   "execution_count": 37,
   "id": "536d591b",
   "metadata": {},
   "outputs": [
    {
     "name": "stdout",
     "output_type": "stream",
     "text": [
      "<class 'datetime.date'>\n"
     ]
    }
   ],
   "source": [
    "start_date = dt.date(2022,1,1)\n",
    "print(type(start_date))"
   ]
  },
  {
   "cell_type": "code",
   "execution_count": 51,
   "id": "7e1ca56b-b156-4d5f-9d52-50d15111516c",
   "metadata": {},
   "outputs": [
    {
     "name": "stdout",
     "output_type": "stream",
     "text": [
      "<bound method NDFrame.head of             净值日期    累计净值\n",
      "2092  2022-04-01  1.4265\n",
      "2093  2022-04-06  1.4195\n",
      "2094  2022-04-07  1.4231\n",
      "2095  2022-04-08  1.4261\n",
      "2096  2022-04-11  1.4374\n",
      "...          ...     ...\n",
      "2272  2022-12-27  1.4660\n",
      "2273  2022-12-28  1.4697\n",
      "2274  2022-12-29  1.4636\n",
      "2275  2022-12-30  1.4748\n",
      "2276  2022-12-31  1.4748\n",
      "\n",
      "[185 rows x 2 columns]>\n"
     ]
    }
   ],
   "source": [
    "# 过滤出2022年的数据\n",
    "start_date = dt.date(2022,4,1)\n",
    "end_date = dt.date(2022,12,31)\n",
    "filtered_data = fund_open_fund_info_em_df[(fund_open_fund_info_em_df['净值日期'] >= start_date) & (fund_open_fund_info_em_df['净值日期'] <= end_date)]\n",
    "\n",
    "print(filtered_data.head)\n"
   ]
  },
  {
   "cell_type": "code",
   "execution_count": 15,
   "id": "0868a5a2",
   "metadata": {},
   "outputs": [
    {
     "data": {
      "text/plain": [
       "<bound method DataFrame.info of             净值日期    累计净值\n",
       "0     2013-08-22  1.0000\n",
       "1     2013-08-23  1.0000\n",
       "2     2013-08-30  0.9990\n",
       "3     2013-09-06  0.9960\n",
       "4     2013-09-09  0.9980\n",
       "...          ...     ...\n",
       "2472  2023-10-26  1.6929\n",
       "2473  2023-10-27  1.6984\n",
       "2474  2023-10-30  1.7028\n",
       "2475  2023-10-31  1.7027\n",
       "2476  2023-11-01  1.6976\n",
       "\n",
       "[2477 rows x 2 columns]>"
      ]
     },
     "execution_count": 15,
     "metadata": {},
     "output_type": "execute_result"
    }
   ],
   "source": [
    "fund_open_fund_info_em_df.info"
   ]
  }
 ],
 "metadata": {
  "kernelspec": {
   "display_name": "Python 3 (ipykernel)",
   "language": "python",
   "name": "python3"
  },
  "language_info": {
   "codemirror_mode": {
    "name": "ipython",
    "version": 3
   },
   "file_extension": ".py",
   "mimetype": "text/x-python",
   "name": "python",
   "nbconvert_exporter": "python",
   "pygments_lexer": "ipython3",
   "version": "3.11.6"
  }
 },
 "nbformat": 4,
 "nbformat_minor": 5
}
