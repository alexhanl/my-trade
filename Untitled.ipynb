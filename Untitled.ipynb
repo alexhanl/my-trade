{
 "cells": [
  {
   "cell_type": "code",
   "execution_count": 1,
   "id": "97bcaca8-3ac2-40a2-a984-57eb2e3e4135",
   "metadata": {},
   "outputs": [],
   "source": [
    "import akshare as ak\n",
    "import matplotlib.pyplot as plt\n",
    "import pandas as pd\n",
    "import datetime as dt\n",
    "from enum import Enum\n",
    "import os"
   ]
  },
  {
   "cell_type": "code",
   "execution_count": 10,
   "id": "7f092c33",
   "metadata": {},
   "outputs": [
    {
     "ename": "KeyError",
     "evalue": "'date'",
     "output_type": "error",
     "traceback": [
      "\u001b[1;31m---------------------------------------------------------------------------\u001b[0m",
      "\u001b[1;31mKeyError\u001b[0m                                  Traceback (most recent call last)",
      "\u001b[1;32md:\\trading\\Untitled.ipynb Cell 2\u001b[0m line \u001b[0;36m2\n\u001b[0;32m      <a href='vscode-notebook-cell:/d%3A/trading/Untitled.ipynb#W1sZmlsZQ%3D%3D?line=0'>1</a>\u001b[0m \u001b[39m# 利用 AKShare 获取股票的后复权数据，这里只获取前 6 列\u001b[39;00m\n\u001b[1;32m----> <a href='vscode-notebook-cell:/d%3A/trading/Untitled.ipynb#W1sZmlsZQ%3D%3D?line=1'>2</a>\u001b[0m stock_zh_index_daily_df \u001b[39m=\u001b[39m ak\u001b[39m.\u001b[39;49mstock_zh_index_daily(symbol\u001b[39m=\u001b[39;49m\u001b[39m\"\u001b[39;49m\u001b[39mCSI300\u001b[39;49m\u001b[39m\"\u001b[39;49m)\n\u001b[0;32m      <a href='vscode-notebook-cell:/d%3A/trading/Untitled.ipynb#W1sZmlsZQ%3D%3D?line=2'>3</a>\u001b[0m \u001b[39mprint\u001b[39m(stock_zh_index_daily_df)\n",
      "File \u001b[1;32mc:\\Users\\imhl\\AppData\\Local\\Programs\\Python\\Python311\\Lib\\site-packages\\akshare\\index\\index_stock_zh.py:135\u001b[0m, in \u001b[0;36mstock_zh_index_daily\u001b[1;34m(symbol)\u001b[0m\n\u001b[0;32m    131\u001b[0m dict_list \u001b[39m=\u001b[39m js_code\u001b[39m.\u001b[39mcall(\n\u001b[0;32m    132\u001b[0m     \u001b[39m\"\u001b[39m\u001b[39md\u001b[39m\u001b[39m\"\u001b[39m, res\u001b[39m.\u001b[39mtext\u001b[39m.\u001b[39msplit(\u001b[39m\"\u001b[39m\u001b[39m=\u001b[39m\u001b[39m\"\u001b[39m)[\u001b[39m1\u001b[39m]\u001b[39m.\u001b[39msplit(\u001b[39m\"\u001b[39m\u001b[39m;\u001b[39m\u001b[39m\"\u001b[39m)[\u001b[39m0\u001b[39m]\u001b[39m.\u001b[39mreplace(\u001b[39m'\u001b[39m\u001b[39m\"\u001b[39m\u001b[39m'\u001b[39m, \u001b[39m\"\u001b[39m\u001b[39m\"\u001b[39m)\n\u001b[0;32m    133\u001b[0m )  \u001b[39m# 执行js解密代码\u001b[39;00m\n\u001b[0;32m    134\u001b[0m temp_df \u001b[39m=\u001b[39m pd\u001b[39m.\u001b[39mDataFrame(dict_list)\n\u001b[1;32m--> 135\u001b[0m temp_df[\u001b[39m\"\u001b[39m\u001b[39mdate\u001b[39m\u001b[39m\"\u001b[39m] \u001b[39m=\u001b[39m pd\u001b[39m.\u001b[39mto_datetime(temp_df[\u001b[39m\"\u001b[39;49m\u001b[39mdate\u001b[39;49m\u001b[39m\"\u001b[39;49m], errors\u001b[39m=\u001b[39m\u001b[39m\"\u001b[39m\u001b[39mcoerce\u001b[39m\u001b[39m\"\u001b[39m)\u001b[39m.\u001b[39mdt\u001b[39m.\u001b[39mdate\n\u001b[0;32m    136\u001b[0m temp_df[\u001b[39m\"\u001b[39m\u001b[39mopen\u001b[39m\u001b[39m\"\u001b[39m] \u001b[39m=\u001b[39m pd\u001b[39m.\u001b[39mto_numeric(temp_df[\u001b[39m\"\u001b[39m\u001b[39mopen\u001b[39m\u001b[39m\"\u001b[39m], errors\u001b[39m=\u001b[39m\u001b[39m\"\u001b[39m\u001b[39mcoerce\u001b[39m\u001b[39m\"\u001b[39m)\n\u001b[0;32m    137\u001b[0m temp_df[\u001b[39m\"\u001b[39m\u001b[39mclose\u001b[39m\u001b[39m\"\u001b[39m] \u001b[39m=\u001b[39m pd\u001b[39m.\u001b[39mto_numeric(temp_df[\u001b[39m\"\u001b[39m\u001b[39mclose\u001b[39m\u001b[39m\"\u001b[39m], errors\u001b[39m=\u001b[39m\u001b[39m\"\u001b[39m\u001b[39mcoerce\u001b[39m\u001b[39m\"\u001b[39m)\n",
      "File \u001b[1;32mc:\\Users\\imhl\\AppData\\Local\\Programs\\Python\\Python311\\Lib\\site-packages\\pandas\\core\\frame.py:3893\u001b[0m, in \u001b[0;36mDataFrame.__getitem__\u001b[1;34m(self, key)\u001b[0m\n\u001b[0;32m   3891\u001b[0m \u001b[39mif\u001b[39;00m \u001b[39mself\u001b[39m\u001b[39m.\u001b[39mcolumns\u001b[39m.\u001b[39mnlevels \u001b[39m>\u001b[39m \u001b[39m1\u001b[39m:\n\u001b[0;32m   3892\u001b[0m     \u001b[39mreturn\u001b[39;00m \u001b[39mself\u001b[39m\u001b[39m.\u001b[39m_getitem_multilevel(key)\n\u001b[1;32m-> 3893\u001b[0m indexer \u001b[39m=\u001b[39m \u001b[39mself\u001b[39;49m\u001b[39m.\u001b[39;49mcolumns\u001b[39m.\u001b[39;49mget_loc(key)\n\u001b[0;32m   3894\u001b[0m \u001b[39mif\u001b[39;00m is_integer(indexer):\n\u001b[0;32m   3895\u001b[0m     indexer \u001b[39m=\u001b[39m [indexer]\n",
      "File \u001b[1;32mc:\\Users\\imhl\\AppData\\Local\\Programs\\Python\\Python311\\Lib\\site-packages\\pandas\\core\\indexes\\range.py:418\u001b[0m, in \u001b[0;36mRangeIndex.get_loc\u001b[1;34m(self, key)\u001b[0m\n\u001b[0;32m    416\u001b[0m         \u001b[39mraise\u001b[39;00m \u001b[39mKeyError\u001b[39;00m(key) \u001b[39mfrom\u001b[39;00m \u001b[39merr\u001b[39;00m\n\u001b[0;32m    417\u001b[0m \u001b[39mif\u001b[39;00m \u001b[39misinstance\u001b[39m(key, Hashable):\n\u001b[1;32m--> 418\u001b[0m     \u001b[39mraise\u001b[39;00m \u001b[39mKeyError\u001b[39;00m(key)\n\u001b[0;32m    419\u001b[0m \u001b[39mself\u001b[39m\u001b[39m.\u001b[39m_check_indexing_error(key)\n\u001b[0;32m    420\u001b[0m \u001b[39mraise\u001b[39;00m \u001b[39mKeyError\u001b[39;00m(key)\n",
      "\u001b[1;31mKeyError\u001b[0m: 'date'"
     ]
    }
   ],
   "source": [
    "\n",
    "\n",
    "\n",
    "stock_zh_index_daily_em_df = ak.stock_hk_index_daily_em(symbol=\"CSI300\")\n",
    "print(stock_zh_index_daily_em_df)"
   ]
  },
  {
   "cell_type": "code",
   "execution_count": 3,
   "metadata": {},
   "outputs": [
    {
     "data": {
      "text/html": [
       "<div>\n",
       "<style scoped>\n",
       "    .dataframe tbody tr th:only-of-type {\n",
       "        vertical-align: middle;\n",
       "    }\n",
       "\n",
       "    .dataframe tbody tr th {\n",
       "        vertical-align: top;\n",
       "    }\n",
       "\n",
       "    .dataframe thead th {\n",
       "        text-align: right;\n",
       "    }\n",
       "</style>\n",
       "<table border=\"1\" class=\"dataframe\">\n",
       "  <thead>\n",
       "    <tr style=\"text-align: right;\">\n",
       "      <th></th>\n",
       "      <th>日期</th>\n",
       "      <th>开盘</th>\n",
       "      <th>收盘</th>\n",
       "      <th>最高</th>\n",
       "      <th>最低</th>\n",
       "      <th>成交量</th>\n",
       "    </tr>\n",
       "  </thead>\n",
       "  <tbody>\n",
       "    <tr>\n",
       "      <th>0</th>\n",
       "      <td>1991-04-03</td>\n",
       "      <td>49.00</td>\n",
       "      <td>49.00</td>\n",
       "      <td>49.00</td>\n",
       "      <td>49.00</td>\n",
       "      <td>1</td>\n",
       "    </tr>\n",
       "    <tr>\n",
       "      <th>1</th>\n",
       "      <td>1991-04-04</td>\n",
       "      <td>48.76</td>\n",
       "      <td>48.76</td>\n",
       "      <td>48.76</td>\n",
       "      <td>48.76</td>\n",
       "      <td>3</td>\n",
       "    </tr>\n",
       "    <tr>\n",
       "      <th>2</th>\n",
       "      <td>1991-04-05</td>\n",
       "      <td>48.52</td>\n",
       "      <td>48.52</td>\n",
       "      <td>48.52</td>\n",
       "      <td>48.52</td>\n",
       "      <td>2</td>\n",
       "    </tr>\n",
       "    <tr>\n",
       "      <th>3</th>\n",
       "      <td>1991-04-06</td>\n",
       "      <td>48.28</td>\n",
       "      <td>48.28</td>\n",
       "      <td>48.28</td>\n",
       "      <td>48.28</td>\n",
       "      <td>7</td>\n",
       "    </tr>\n",
       "    <tr>\n",
       "      <th>4</th>\n",
       "      <td>1991-04-08</td>\n",
       "      <td>48.04</td>\n",
       "      <td>48.04</td>\n",
       "      <td>48.04</td>\n",
       "      <td>48.04</td>\n",
       "      <td>2</td>\n",
       "    </tr>\n",
       "    <tr>\n",
       "      <th>...</th>\n",
       "      <td>...</td>\n",
       "      <td>...</td>\n",
       "      <td>...</td>\n",
       "      <td>...</td>\n",
       "      <td>...</td>\n",
       "      <td>...</td>\n",
       "    </tr>\n",
       "    <tr>\n",
       "      <th>7786</th>\n",
       "      <td>2023-11-08</td>\n",
       "      <td>1971.77</td>\n",
       "      <td>1958.76</td>\n",
       "      <td>1975.02</td>\n",
       "      <td>1950.64</td>\n",
       "      <td>877819</td>\n",
       "    </tr>\n",
       "    <tr>\n",
       "      <th>7787</th>\n",
       "      <td>2023-11-09</td>\n",
       "      <td>1952.26</td>\n",
       "      <td>1957.14</td>\n",
       "      <td>1962.01</td>\n",
       "      <td>1947.39</td>\n",
       "      <td>639136</td>\n",
       "    </tr>\n",
       "    <tr>\n",
       "      <th>7788</th>\n",
       "      <td>2023-11-10</td>\n",
       "      <td>1950.64</td>\n",
       "      <td>1926.26</td>\n",
       "      <td>1953.89</td>\n",
       "      <td>1924.63</td>\n",
       "      <td>1045044</td>\n",
       "    </tr>\n",
       "    <tr>\n",
       "      <th>7789</th>\n",
       "      <td>2023-11-13</td>\n",
       "      <td>1927.88</td>\n",
       "      <td>1918.13</td>\n",
       "      <td>1931.13</td>\n",
       "      <td>1913.26</td>\n",
       "      <td>770043</td>\n",
       "    </tr>\n",
       "    <tr>\n",
       "      <th>7790</th>\n",
       "      <td>2023-11-14</td>\n",
       "      <td>1916.51</td>\n",
       "      <td>1921.38</td>\n",
       "      <td>1931.13</td>\n",
       "      <td>1914.88</td>\n",
       "      <td>596859</td>\n",
       "    </tr>\n",
       "  </tbody>\n",
       "</table>\n",
       "<p>7791 rows × 6 columns</p>\n",
       "</div>"
      ],
      "text/plain": [
       "              日期       开盘       收盘       最高       最低      成交量\n",
       "0     1991-04-03    49.00    49.00    49.00    49.00        1\n",
       "1     1991-04-04    48.76    48.76    48.76    48.76        3\n",
       "2     1991-04-05    48.52    48.52    48.52    48.52        2\n",
       "3     1991-04-06    48.28    48.28    48.28    48.28        7\n",
       "4     1991-04-08    48.04    48.04    48.04    48.04        2\n",
       "...          ...      ...      ...      ...      ...      ...\n",
       "7786  2023-11-08  1971.77  1958.76  1975.02  1950.64   877819\n",
       "7787  2023-11-09  1952.26  1957.14  1962.01  1947.39   639136\n",
       "7788  2023-11-10  1950.64  1926.26  1953.89  1924.63  1045044\n",
       "7789  2023-11-13  1927.88  1918.13  1931.13  1913.26   770043\n",
       "7790  2023-11-14  1916.51  1921.38  1931.13  1914.88   596859\n",
       "\n",
       "[7791 rows x 6 columns]"
      ]
     },
     "execution_count": 3,
     "metadata": {},
     "output_type": "execute_result"
    }
   ],
   "source": [
    "stock_hfq_df"
   ]
  },
  {
   "cell_type": "code",
   "execution_count": 4,
   "metadata": {},
   "outputs": [
    {
     "name": "stdout",
     "output_type": "stream",
     "text": [
      "        序号      代码    名称    最新价    涨跌幅   涨跌额        成交量           成交额     振幅  \\\n",
      "0        1  837592  华信永道  13.65  30.00  3.15    66579.0  8.245431e+07  27.24   \n",
      "1        2  688609  九联科技  14.09  20.02  2.35  1200841.0  1.643923e+09  10.90   \n",
      "2        3  301448  开创电气  45.16  20.01  7.53   132859.0  5.432569e+08  17.70   \n",
      "3        4  300608   思特奇  17.82  20.00  2.97   508489.0  8.466064e+08  21.75   \n",
      "4        5  300609  汇纳科技  33.07  19.99  5.51   280667.0  8.744986e+08  17.45   \n",
      "...    ...     ...   ...    ...    ...   ...        ...           ...    ...   \n",
      "5541  5542  002217   合力泰   3.15  -6.53 -0.22  2033857.0  6.362809e+08   5.64   \n",
      "5542  5543  300446  航天智造  18.17  -6.82 -1.33   358758.0  6.581967e+08   4.97   \n",
      "5543  5544  001326   C联域  70.40  -8.21 -6.30   102925.0  7.538916e+08  14.93   \n",
      "5544  5545  301489  思泉新材  86.55  -8.89 -8.45    57122.0  5.077668e+08  10.23   \n",
      "5545  5546  600792  云煤能源   4.88  -9.96 -0.54  1071043.0  5.297827e+08   5.72   \n",
      "\n",
      "         最高  ...    量比    换手率  市盈率-动态   市净率           总市值          流通市值    涨速  \\\n",
      "0     13.65  ...  4.14  44.58  -14.83  2.60  8.483475e+08  2.038488e+08  0.00   \n",
      "1     14.09  ...  4.30  36.52  -43.79  6.33  7.045000e+09  4.632536e+09  0.00   \n",
      "2     45.16  ...  2.70  66.43   67.91  5.53  3.612800e+09  9.032000e+08  0.00   \n",
      "3     17.82  ...  0.65  18.76  -65.02  4.02  5.829564e+09  4.830098e+09  0.00   \n",
      "4     33.07  ...  2.60  29.53  -91.35  3.78  4.030240e+09  3.142790e+09  0.00   \n",
      "...     ...  ...   ...    ...     ...   ...           ...           ...   ...   \n",
      "5541   3.22  ...  2.11   6.53   -2.24  4.54  9.816711e+09  9.806074e+09 -0.32   \n",
      "5542  18.95  ...  1.51  18.14   37.39  5.12  1.209982e+10  3.593891e+09  0.06   \n",
      "5543  81.00  ...  0.81  57.40   28.93  4.29  5.153280e+09  1.262408e+09  0.00   \n",
      "5544  94.52  ...  0.86  41.77   99.56  5.09  4.992319e+09  1.183579e+09 -0.02   \n",
      "5545   5.19  ...  1.47  10.82   15.44  1.41  4.830827e+09  4.830827e+09  0.00   \n",
      "\n",
      "      5分钟涨跌  60日涨跌幅  年初至今涨跌幅  \n",
      "0      0.00    4.76    29.38  \n",
      "1      0.00   59.39   115.11  \n",
      "2      0.00   29.10   151.03  \n",
      "3      0.00   75.05   118.65  \n",
      "4      0.00   28.83   113.63  \n",
      "...     ...     ...      ...  \n",
      "5541   0.00    4.30    23.53  \n",
      "5542   0.33   39.98    81.70  \n",
      "5543   0.74   70.96    70.96  \n",
      "5544   0.87  107.75   107.75  \n",
      "5545   0.00   41.45    40.63  \n",
      "\n",
      "[5546 rows x 23 columns]\n"
     ]
    }
   ],
   "source": [
    "import akshare as ak\n",
    "\n",
    "stock_zh_a_spot_em_df = ak.stock_zh_a_spot_em()\n",
    "print(stock_zh_a_spot_em_df)"
   ]
  },
  {
   "cell_type": "code",
   "execution_count": 6,
   "metadata": {},
   "outputs": [
    {
     "name": "stdout",
     "output_type": "stream",
     "text": [
      "                          净值日期    累计净值\n",
      "净值日期                2020-01-01  2.1584\n",
      "2020-01-02 00:00:00        NaT  2.1584\n",
      "2020-01-03 00:00:00        NaT  2.1558\n",
      "2020-01-06 00:00:00        NaT  2.1433\n",
      "2020-01-07 00:00:00        NaT  2.1650\n",
      "2020-01-08 00:00:00        NaT  2.1430\n",
      "2020-01-09 00:00:00        NaT  2.1660\n",
      "2020-01-10 00:00:00        NaT  2.1640\n",
      "2020-01-13 00:00:00        NaT  2.1784\n",
      "2020-01-14 00:00:00        NaT  2.1741\n",
      "2020-01-15 00:00:00        NaT  2.1599\n",
      "2020-01-16 00:00:00        NaT  2.1488\n",
      "2020-01-17 00:00:00        NaT  2.1523\n",
      "2020-01-20 00:00:00        NaT  2.1621\n",
      "2020-01-21 00:00:00        NaT  2.1280\n",
      "2020-01-22 00:00:00        NaT  2.1314\n",
      "2020-01-23 00:00:00        NaT  2.0767\n"
     ]
    }
   ],
   "source": [
    "NET_VALUE_DATE = '净值日期'\n",
    "ACCU_NET_VALUE = '累计净值'\n",
    "TOTAL_INVESTMENT = 100.0\n",
    "\n",
    "DATA_PATH='./data'\n",
    "def load_fund_data(ticker, start_date, end_date):\n",
    "    data = pd.read_csv(os.path.join(DATA_PATH, ticker + '.csv'))\n",
    "    data[NET_VALUE_DATE] = pd.to_datetime(data[NET_VALUE_DATE])   \n",
    "    data_sliced = data[(data[NET_VALUE_DATE] >= start_date) & (data[NET_VALUE_DATE] <= end_date)]\n",
    "    data_sliced.set_index(NET_VALUE_DATE, inplace=True)\n",
    "    return data_sliced\n",
    "\n",
    "\n",
    "# 填补非交易日的数据，以及其他可能缺失的数据\n",
    "def fill_missing_data(data, start_date, end_date):\n",
    "    # 如果start_date 是非交易日\n",
    "    if data[ACCU_NET_VALUE].get(start_date) == None:\n",
    "        first_trade_day_net_value = data[ACCU_NET_VALUE].iloc[0]\n",
    "        start_date_df = pd.DataFrame({NET_VALUE_DATE: [start_date], ACCU_NET_VALUE: [first_trade_day_net_value]}, \n",
    "                          index=[NET_VALUE_DATE])\n",
    "        filled_data = pd.concat([start_date_df, data])\n",
    "    \n",
    "    # 填补其他的非交易日数据\n",
    "    return filled_data\n",
    "\n",
    "if __name__ == \"__main__\":\n",
    "    \n",
    "    start_date = pd.to_datetime('2020-01-01')\n",
    "    end_date = pd.to_datetime('2020-1-30')\n",
    "    \n",
    "    data = load_fund_data('163407', start_date, end_date)\n",
    "    print(fill_missing_data(data, start_date, end_date))"
   ]
  },
  {
   "cell_type": "code",
   "execution_count": 10,
   "id": "972b50f9",
   "metadata": {},
   "outputs": [
    {
     "name": "stdout",
     "output_type": "stream",
     "text": [
      "50\n"
     ]
    }
   ],
   "source": [
    "portfolio = [['163407', '兴全沪深300', 25],\n",
    "         ['050025', '博时标普500', 25],\n",
    "         ['000216', '华安黄金ETF', 20],\n",
    "         ['000402', '工银纯债债券A', 50]]\n",
    "portfolio_df = pd.DataFrame(portfolio, columns=['ticker','name', 'target_percentage'])\n",
    "\n",
    "percentage = portfolio_df[portfolio_df['ticker']=='000402']['target_percentage'].iloc[0]\n",
    "print(percentage)"
   ]
  },
  {
   "cell_type": "code",
   "execution_count": 50,
   "id": "f0f4819b",
   "metadata": {},
   "outputs": [
    {
     "data": {
      "text/plain": [
       "numpy.int64"
      ]
     },
     "execution_count": 50,
     "metadata": {},
     "output_type": "execute_result"
    }
   ],
   "source": [
    "type(portfolio_df['percentage'][1])\n",
    "ak.fund_money_fund_daily_em"
   ]
  },
  {
   "cell_type": "code",
   "execution_count": 70,
   "id": "00157f98",
   "metadata": {},
   "outputs": [
    {
     "name": "stdout",
     "output_type": "stream",
     "text": [
      "            净值日期   每万份收益 7日年化收益率 申购状态 赎回状态\n",
      "0     2023-11-01  0.4165  2.0440         1\n",
      "1     2023-10-31  0.6059  2.0710         1\n",
      "2     2023-10-30  0.4487  2.0520         1\n",
      "3     2023-10-29  1.2056  2.1050         0\n",
      "4     2023-10-27  0.6022  2.0330         1\n",
      "...          ...     ...     ...  ...  ...\n",
      "5150  2006-05-19  0.3010  1.6110         1\n",
      "5151  2006-05-18  0.2955  1.5890         1\n",
      "5152  2006-05-17  0.2538  1.6250         1\n",
      "5153  2006-05-16  0.2899  1.6230         1\n",
      "5154  2006-05-15  7.4263  1.5960         3\n",
      "\n",
      "[5155 rows x 5 columns]\n"
     ]
    }
   ],
   "source": [
    "money_fund = ak.fund_money_fund_info_em(fund=\"340005\")\n",
    "print(money_fund)"
   ]
  },
  {
   "cell_type": "code",
   "execution_count": 68,
   "id": "d0f2a542-cb8a-428f-86b5-f86a54e47d23",
   "metadata": {
    "scrolled": true
   },
   "outputs": [
    {
     "name": "stdout",
     "output_type": "stream",
     "text": [
      "<class 'datetime.date'>\n"
     ]
    }
   ],
   "source": [
    "fund_open_fund_info_em_df = ak.fund_open_fund_info_em(fund=\"000216\", indicator=\"累计净值走势\")\n",
    "print(type(fund_open_fund_info_em_df['净值日期'][1]))"
   ]
  },
  {
   "cell_type": "code",
   "execution_count": 67,
   "metadata": {},
   "outputs": [
    {
     "data": {
      "text/plain": [
       "<bound method DataFrame.info of             净值日期    累计净值\n",
       "0     2013-08-22  1.0000\n",
       "1     2013-08-23  1.0000\n",
       "2     2013-08-30  0.9990\n",
       "3     2013-09-06  0.9960\n",
       "4     2013-09-09  0.9980\n",
       "...          ...     ...\n",
       "2472  2023-10-26  1.6929\n",
       "2473  2023-10-27  1.6984\n",
       "2474  2023-10-30  1.7028\n",
       "2475  2023-10-31  1.7027\n",
       "2476  2023-11-01  1.6976\n",
       "\n",
       "[2477 rows x 2 columns]>"
      ]
     },
     "execution_count": 67,
     "metadata": {},
     "output_type": "execute_result"
    }
   ],
   "source": [
    "fund_open_fund_info_em_df.info\n",
    "\n"
   ]
  },
  {
   "cell_type": "code",
   "execution_count": 37,
   "id": "536d591b",
   "metadata": {},
   "outputs": [
    {
     "name": "stdout",
     "output_type": "stream",
     "text": [
      "<class 'datetime.date'>\n"
     ]
    }
   ],
   "source": [
    "start_date = dt.date(2022,1,1)\n",
    "print(type(start_date))"
   ]
  },
  {
   "cell_type": "code",
   "execution_count": 51,
   "id": "7e1ca56b-b156-4d5f-9d52-50d15111516c",
   "metadata": {},
   "outputs": [
    {
     "name": "stdout",
     "output_type": "stream",
     "text": [
      "<bound method NDFrame.head of             净值日期    累计净值\n",
      "2092  2022-04-01  1.4265\n",
      "2093  2022-04-06  1.4195\n",
      "2094  2022-04-07  1.4231\n",
      "2095  2022-04-08  1.4261\n",
      "2096  2022-04-11  1.4374\n",
      "...          ...     ...\n",
      "2272  2022-12-27  1.4660\n",
      "2273  2022-12-28  1.4697\n",
      "2274  2022-12-29  1.4636\n",
      "2275  2022-12-30  1.4748\n",
      "2276  2022-12-31  1.4748\n",
      "\n",
      "[185 rows x 2 columns]>\n"
     ]
    }
   ],
   "source": [
    "# 过滤出2022年的数据\n",
    "start_date = dt.date(2022,4,1)\n",
    "end_date = dt.date(2022,12,31)\n",
    "filtered_data = fund_open_fund_info_em_df[(fund_open_fund_info_em_df['净值日期'] >= start_date) & (fund_open_fund_info_em_df['净值日期'] <= end_date)]\n",
    "\n",
    "print(filtered_data.head)\n"
   ]
  },
  {
   "cell_type": "code",
   "execution_count": 15,
   "id": "0868a5a2",
   "metadata": {},
   "outputs": [
    {
     "data": {
      "text/plain": [
       "<bound method DataFrame.info of             净值日期    累计净值\n",
       "0     2013-08-22  1.0000\n",
       "1     2013-08-23  1.0000\n",
       "2     2013-08-30  0.9990\n",
       "3     2013-09-06  0.9960\n",
       "4     2013-09-09  0.9980\n",
       "...          ...     ...\n",
       "2472  2023-10-26  1.6929\n",
       "2473  2023-10-27  1.6984\n",
       "2474  2023-10-30  1.7028\n",
       "2475  2023-10-31  1.7027\n",
       "2476  2023-11-01  1.6976\n",
       "\n",
       "[2477 rows x 2 columns]>"
      ]
     },
     "execution_count": 15,
     "metadata": {},
     "output_type": "execute_result"
    }
   ],
   "source": [
    "fund_open_fund_info_em_df.info"
   ]
  }
 ],
 "metadata": {
  "kernelspec": {
   "display_name": "Python 3 (ipykernel)",
   "language": "python",
   "name": "python3"
  },
  "language_info": {
   "codemirror_mode": {
    "name": "ipython",
    "version": 3
   },
   "file_extension": ".py",
   "mimetype": "text/x-python",
   "name": "python",
   "nbconvert_exporter": "python",
   "pygments_lexer": "ipython3",
   "version": "3.11.6"
  }
 },
 "nbformat": 4,
 "nbformat_minor": 5
}
